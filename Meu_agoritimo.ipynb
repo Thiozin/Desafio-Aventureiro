{
  "nbformat": 4,
  "nbformat_minor": 0,
  "metadata": {
    "colab": {
      "provenance": [],
      "authorship_tag": "ABX9TyMlvYGkttoz9NfDr7GNTLgh",
      "include_colab_link": true
    },
    "kernelspec": {
      "name": "python3",
      "display_name": "Python 3"
    },
    "language_info": {
      "name": "python"
    }
  },
  "cells": [
    {
      "cell_type": "markdown",
      "metadata": {
        "id": "view-in-github",
        "colab_type": "text"
      },
      "source": [
        "<a href=\"https://colab.research.google.com/github/Thiozin/Desafio-Aventureiro/blob/main/Meu_agoritimo.ipynb\" target=\"_parent\"><img src=\"https://colab.research.google.com/assets/colab-badge.svg\" alt=\"Open In Colab\"/></a>"
      ]
    },
    {
      "cell_type": "markdown",
      "source": [],
      "metadata": {
        "id": "DdvnI8Du4BXr"
      }
    },
    {
      "cell_type": "code",
      "source": [
        "nto número:  \"))numero5=int(input(\"Digite o qui"
      ],
      "metadata": {
        "id": "VsShzzk74B9s"
      },
      "execution_count": null,
      "outputs": []
    },
    {
      "cell_type": "code",
      "source": [
        "numero6=float(input(\"Digite o sexto número: \"))"
      ],
      "metadata": {
        "id": "uVPX1DBvuV4g"
      },
      "execution_count": null,
      "outputs": []
    },
    {
      "cell_type": "code",
      "source": [],
      "metadata": {
        "id": "7n2NbVJOv9Hu"
      },
      "execution_count": null,
      "outputs": []
    },
    {
      "cell_type": "code",
      "source": [
        "soma = numero5 + numero6"
      ],
      "metadata": {
        "id": "BYnVOjrNvVUf"
      },
      "execution_count": null,
      "outputs": []
    },
    {
      "cell_type": "code",
      "source": [
        "subtracao = numero5 - numero6"
      ],
      "metadata": {
        "id": "ZUg4FOixw4tB"
      },
      "execution_count": null,
      "outputs": []
    },
    {
      "cell_type": "code",
      "source": [
        "multiplicacao = numero5 * numero6"
      ],
      "metadata": {
        "id": "z524VALPxK3z"
      },
      "execution_count": null,
      "outputs": []
    },
    {
      "cell_type": "code",
      "source": [
        "divisao = numero5 / numero6"
      ],
      "metadata": {
        "id": "X9CNNqVOxnW_"
      },
      "execution_count": null,
      "outputs": []
    },
    {
      "cell_type": "code",
      "source": [],
      "metadata": {
        "id": "0HpVuV4yx60n"
      },
      "execution_count": null,
      "outputs": []
    },
    {
      "cell_type": "code",
      "source": [
        "print(f\"A soma é : {soma} \")"
      ],
      "metadata": {
        "id": "IpjzV70TyGmx"
      },
      "execution_count": null,
      "outputs": []
    },
    {
      "cell_type": "code",
      "source": [
        "print(f\"A subtracao é {subtracao} \")"
      ],
      "metadata": {
        "id": "mUtPD7-yy2Lq"
      },
      "execution_count": null,
      "outputs": []
    },
    {
      "cell_type": "code",
      "source": [
        "print(f\" A multiplicacao é {multiplicacao} \")"
      ],
      "metadata": {
        "id": "9qrjJVLuzZeg"
      },
      "execution_count": null,
      "outputs": []
    },
    {
      "cell_type": "code",
      "source": [
        "print(f\" A divisao é {divisao} \")"
      ],
      "metadata": {
        "id": "8KFkweWOz5kZ"
      },
      "execution_count": null,
      "outputs": []
    },
    {
      "cell_type": "code",
      "source": [],
      "metadata": {
        "id": "b2uTU_aZ0Pej"
      },
      "execution_count": null,
      "outputs": []
    },
    {
      "cell_type": "code",
      "source": [
        "if numero5 > numero6 :"
      ],
      "metadata": {
        "id": "9DvqsDit0Yzc"
      },
      "execution_count": null,
      "outputs": []
    },
    {
      "cell_type": "code",
      "source": [
        "    print (\"Numero 5 é maior que número 6 \")"
      ],
      "metadata": {
        "id": "5__5dvrd07g1"
      },
      "execution_count": null,
      "outputs": []
    },
    {
      "cell_type": "code",
      "source": [
        "else:"
      ],
      "metadata": {
        "id": "dqDOU0p0BnpK"
      },
      "execution_count": null,
      "outputs": []
    },
    {
      "cell_type": "code",
      "source": [
        "   print(\"Número 5 é maior ou igual ao número 1\")"
      ],
      "metadata": {
        "colab": {
          "base_uri": "https://localhost:8080/"
        },
        "id": "hL515CiB1rse",
        "outputId": "45a396ba-078f-4192-e5bd-9a2d72f8f372"
      },
      "execution_count": null,
      "outputs": [
        {
          "output_type": "stream",
          "name": "stdout",
          "text": [
            "Número 5 é maior ou igual ao número 1\n"
          ]
        }
      ]
    }
  ]
}